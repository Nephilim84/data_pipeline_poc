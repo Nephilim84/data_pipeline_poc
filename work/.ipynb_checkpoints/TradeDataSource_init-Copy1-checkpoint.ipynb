{
 "cells": [
  {
   "cell_type": "code",
   "execution_count": 1,
   "id": "d11f91fb",
   "metadata": {},
   "outputs": [
    {
     "name": "stdout",
     "output_type": "stream",
     "text": [
      "Collecting psycopg2-binary\n",
      "  Downloading psycopg2_binary-2.9.1-cp39-cp39-manylinux_2_17_x86_64.manylinux2014_x86_64.whl (3.4 MB)\n",
      "\u001b[K     |████████████████████████████████| 3.4 MB 5.3 MB/s eta 0:00:01\n",
      "\u001b[?25hInstalling collected packages: psycopg2-binary\n",
      "Successfully installed psycopg2-binary-2.9.1\n",
      "Note: you may need to restart the kernel to use updated packages.\n"
     ]
    }
   ],
   "source": [
    "pip install psycopg2-binary"
   ]
  },
  {
   "cell_type": "code",
   "execution_count": 2,
   "id": "e9c65154",
   "metadata": {},
   "outputs": [],
   "source": [
    "import numpy as np # linear algebra\n",
    "import os # accessing directory structure\n",
    "import pandas as pd # data processing, CSV file I/O (e.g. pd.read_csv)\n",
    "import sys # import sys to get more detailed Python exception info\n",
    "import psycopg2 # import the connect library for psycopg2\n",
    "from psycopg2 import OperationalError, errorcodes, errors # import the error handling libraries for psycopg2\n",
    "import psycopg2.extras as extras\n",
    "import pandas as pd\n",
    "import glob"
   ]
  },
  {
   "cell_type": "code",
   "execution_count": 3,
   "id": "8bf9d2d5",
   "metadata": {},
   "outputs": [
    {
     "name": "stdout",
     "output_type": "stream",
     "text": [
      "Merging:  /home/jovyan/work/input_dataset/HB-Spot-Tick-BCHUSDT-20200901\n",
      "Merging:  /home/jovyan/work/input_dataset/HB-Spot-Tick-BCHUSDT-20200902\n",
      "Merging:  /home/jovyan/work/input_dataset/HB-Spot-Tick-BCHUSDT-20200903\n",
      "Merging:  /home/jovyan/work/input_dataset/HB-Spot-Tick-BCHUSDT-20200904\n",
      "Merging:  /home/jovyan/work/input_dataset/HB-Spot-Tick-BCHUSDT-20200905\n",
      "Merging:  /home/jovyan/work/input_dataset/HB-Spot-Tick-BCHUSDT-20200906\n",
      "Merging:  /home/jovyan/work/input_dataset/HB-Spot-Tick-BCHUSDT-20200907\n",
      "Merging:  /home/jovyan/work/input_dataset/HB-Spot-Tick-BCHUSDT-20200908\n",
      "Merging:  /home/jovyan/work/input_dataset/HB-Spot-Tick-BCHUSDT-20200909\n",
      "Merging:  /home/jovyan/work/input_dataset/HB-Spot-Tick-BCHUSDT-20200910\n",
      "Merging:  /home/jovyan/work/input_dataset/HB-Spot-Tick-BCHUSDT-20200911\n",
      "Merging:  /home/jovyan/work/input_dataset/HB-Spot-Tick-BCHUSDT-20200912\n",
      "Merging:  /home/jovyan/work/input_dataset/HB-Spot-Tick-BCHUSDT-20200913\n",
      "Merging:  /home/jovyan/work/input_dataset/HB-Spot-Tick-BCHUSDT-20200914\n",
      "Merging:  /home/jovyan/work/input_dataset/HB-Spot-Tick-BCHUSDT-20200915\n",
      "Merging:  /home/jovyan/work/input_dataset/HB-Spot-Tick-BCHUSDT-20200916\n",
      "Merging:  /home/jovyan/work/input_dataset/HB-Spot-Tick-BCHUSDT-20200917\n",
      "Merging:  /home/jovyan/work/input_dataset/HB-Spot-Tick-BCHUSDT-20200918\n",
      "Merging:  /home/jovyan/work/input_dataset/HB-Spot-Tick-BCHUSDT-20200919\n",
      "Merging:  /home/jovyan/work/input_dataset/HB-Spot-Tick-BCHUSDT-20200920\n",
      "Merging:  /home/jovyan/work/input_dataset/HB-Spot-Tick-BCHUSDT-20200921\n",
      "Merging:  /home/jovyan/work/input_dataset/HB-Spot-Tick-BCHUSDT-20200922\n",
      "Merging:  /home/jovyan/work/input_dataset/HB-Spot-Tick-BCHUSDT-20200923\n",
      "Merging:  /home/jovyan/work/input_dataset/HB-Spot-Tick-BCHUSDT-20200924\n",
      "Merging:  /home/jovyan/work/input_dataset/HB-Spot-Tick-BCHUSDT-20200925\n",
      "Merging:  /home/jovyan/work/input_dataset/HB-Spot-Tick-BCHUSDT-20200926\n",
      "Merging:  /home/jovyan/work/input_dataset/HB-Spot-Tick-BCHUSDT-20200927\n",
      "Merging:  /home/jovyan/work/input_dataset/HB-Spot-Tick-BCHUSDT-20200928\n",
      "Merging:  /home/jovyan/work/input_dataset/HB-Spot-Tick-BCHUSDT-20200929\n",
      "Merging:  /home/jovyan/work/input_dataset/HB-Spot-Tick-BCHUSDT-20200930\n",
      "Merging:  /home/jovyan/work/input_dataset/HB-Spot-Tick-ETCUSDT-20200901\n",
      "Merging:  /home/jovyan/work/input_dataset/HB-Spot-Tick-ETCUSDT-20200902\n",
      "Merging:  /home/jovyan/work/input_dataset/HB-Spot-Tick-ETCUSDT-20200903\n",
      "Merging:  /home/jovyan/work/input_dataset/HB-Spot-Tick-ETCUSDT-20200904\n",
      "Merging:  /home/jovyan/work/input_dataset/HB-Spot-Tick-ETCUSDT-20200905\n",
      "Merging:  /home/jovyan/work/input_dataset/HB-Spot-Tick-ETCUSDT-20200906\n",
      "Merging:  /home/jovyan/work/input_dataset/HB-Spot-Tick-ETCUSDT-20200907\n",
      "Merging:  /home/jovyan/work/input_dataset/HB-Spot-Tick-ETCUSDT-20200908\n",
      "Merging:  /home/jovyan/work/input_dataset/HB-Spot-Tick-ETCUSDT-20200909\n",
      "Merging:  /home/jovyan/work/input_dataset/HB-Spot-Tick-ETCUSDT-20200910\n",
      "Merging:  /home/jovyan/work/input_dataset/HB-Spot-Tick-ETCUSDT-20200911\n",
      "Merging:  /home/jovyan/work/input_dataset/HB-Spot-Tick-ETCUSDT-20200912\n",
      "Merging:  /home/jovyan/work/input_dataset/HB-Spot-Tick-ETCUSDT-20200913\n",
      "Merging:  /home/jovyan/work/input_dataset/HB-Spot-Tick-ETCUSDT-20200914\n",
      "Merging:  /home/jovyan/work/input_dataset/HB-Spot-Tick-ETCUSDT-20200915\n",
      "Merging:  /home/jovyan/work/input_dataset/HB-Spot-Tick-ETCUSDT-20200916\n",
      "Merging:  /home/jovyan/work/input_dataset/HB-Spot-Tick-ETCUSDT-20200917\n",
      "Merging:  /home/jovyan/work/input_dataset/HB-Spot-Tick-ETCUSDT-20200918\n",
      "Merging:  /home/jovyan/work/input_dataset/HB-Spot-Tick-ETCUSDT-20200919\n",
      "Merging:  /home/jovyan/work/input_dataset/HB-Spot-Tick-ETCUSDT-20200920\n",
      "Merging:  /home/jovyan/work/input_dataset/HB-Spot-Tick-ETCUSDT-20200921\n",
      "Merging:  /home/jovyan/work/input_dataset/HB-Spot-Tick-ETCUSDT-20200922\n",
      "Merging:  /home/jovyan/work/input_dataset/HB-Spot-Tick-ETCUSDT-20200923\n",
      "Merging:  /home/jovyan/work/input_dataset/HB-Spot-Tick-ETCUSDT-20200924\n",
      "Merging:  /home/jovyan/work/input_dataset/HB-Spot-Tick-ETCUSDT-20200925\n",
      "Merging:  /home/jovyan/work/input_dataset/HB-Spot-Tick-ETCUSDT-20200926\n",
      "Merging:  /home/jovyan/work/input_dataset/HB-Spot-Tick-ETCUSDT-20200927\n",
      "Merging:  /home/jovyan/work/input_dataset/HB-Spot-Tick-ETCUSDT-20200928\n",
      "Merging:  /home/jovyan/work/input_dataset/HB-Spot-Tick-ETCUSDT-20200929\n",
      "Merging:  /home/jovyan/work/input_dataset/HB-Spot-Tick-ETCUSDT-20200930\n",
      "Merging:  /home/jovyan/work/input_dataset/HB-Spot-Tick-LTCUSDT-20200901\n",
      "Merging:  /home/jovyan/work/input_dataset/HB-Spot-Tick-LTCUSDT-20200902\n",
      "Merging:  /home/jovyan/work/input_dataset/HB-Spot-Tick-LTCUSDT-20200903\n",
      "Merging:  /home/jovyan/work/input_dataset/HB-Spot-Tick-LTCUSDT-20200904\n",
      "Merging:  /home/jovyan/work/input_dataset/HB-Spot-Tick-LTCUSDT-20200905\n",
      "Merging:  /home/jovyan/work/input_dataset/HB-Spot-Tick-LTCUSDT-20200906\n",
      "Merging:  /home/jovyan/work/input_dataset/HB-Spot-Tick-LTCUSDT-20200907\n",
      "Merging:  /home/jovyan/work/input_dataset/HB-Spot-Tick-LTCUSDT-20200908\n",
      "Merging:  /home/jovyan/work/input_dataset/HB-Spot-Tick-LTCUSDT-20200909\n",
      "Merging:  /home/jovyan/work/input_dataset/HB-Spot-Tick-LTCUSDT-20200910\n",
      "Merging:  /home/jovyan/work/input_dataset/HB-Spot-Tick-LTCUSDT-20200911\n",
      "Merging:  /home/jovyan/work/input_dataset/HB-Spot-Tick-LTCUSDT-20200912\n",
      "Merging:  /home/jovyan/work/input_dataset/HB-Spot-Tick-LTCUSDT-20200913\n",
      "Merging:  /home/jovyan/work/input_dataset/HB-Spot-Tick-LTCUSDT-20200914\n",
      "Merging:  /home/jovyan/work/input_dataset/HB-Spot-Tick-LTCUSDT-20200915\n",
      "Merging:  /home/jovyan/work/input_dataset/HB-Spot-Tick-LTCUSDT-20200916\n",
      "Merging:  /home/jovyan/work/input_dataset/HB-Spot-Tick-LTCUSDT-20200917\n",
      "Merging:  /home/jovyan/work/input_dataset/HB-Spot-Tick-LTCUSDT-20200918\n",
      "Merging:  /home/jovyan/work/input_dataset/HB-Spot-Tick-LTCUSDT-20200919\n",
      "Merging:  /home/jovyan/work/input_dataset/HB-Spot-Tick-LTCUSDT-20200920\n",
      "Merging:  /home/jovyan/work/input_dataset/HB-Spot-Tick-LTCUSDT-20200921\n",
      "Merging:  /home/jovyan/work/input_dataset/HB-Spot-Tick-LTCUSDT-20200922\n",
      "Merging:  /home/jovyan/work/input_dataset/HB-Spot-Tick-LTCUSDT-20200923\n",
      "Merging:  /home/jovyan/work/input_dataset/HB-Spot-Tick-LTCUSDT-20200924\n",
      "Merging:  /home/jovyan/work/input_dataset/HB-Spot-Tick-LTCUSDT-20200925\n",
      "Merging:  /home/jovyan/work/input_dataset/HB-Spot-Tick-LTCUSDT-20200926\n",
      "Merging:  /home/jovyan/work/input_dataset/HB-Spot-Tick-LTCUSDT-20200927\n",
      "Merging:  /home/jovyan/work/input_dataset/HB-Spot-Tick-LTCUSDT-20200928\n",
      "Merging:  /home/jovyan/work/input_dataset/HB-Spot-Tick-LTCUSDT-20200929\n",
      "Merging:  /home/jovyan/work/input_dataset/HB-Spot-Tick-LTCUSDT-20200930\n"
     ]
    }
   ],
   "source": [
    "path = r'/home/jovyan/work/input_dataset'\n",
    "all_files = glob.glob(path + \"/*\")\n",
    "\n",
    "li = []\n",
    "\n",
    "for filename in all_files:\n",
    "    print(\"Merging: \",filename)\n",
    "    df = pd.read_csv(filename, index_col=None, header=0,sep='\\t')\n",
    "    li.append(df)\n",
    "\n",
    "tradeData = pd.concat(li, axis=0, ignore_index=True)        "
   ]
  },
  {
   "cell_type": "code",
   "execution_count": 4,
   "id": "232566d9",
   "metadata": {},
   "outputs": [
    {
     "data": {
      "text/html": [
       "<div>\n",
       "<style scoped>\n",
       "    .dataframe tbody tr th:only-of-type {\n",
       "        vertical-align: middle;\n",
       "    }\n",
       "\n",
       "    .dataframe tbody tr th {\n",
       "        vertical-align: top;\n",
       "    }\n",
       "\n",
       "    .dataframe thead th {\n",
       "        text-align: right;\n",
       "    }\n",
       "</style>\n",
       "<table border=\"1\" class=\"dataframe\">\n",
       "  <thead>\n",
       "    <tr style=\"text-align: right;\">\n",
       "      <th></th>\n",
       "      <th>tradeid</th>\n",
       "      <th>symbol</th>\n",
       "      <th>ts</th>\n",
       "      <th>price</th>\n",
       "      <th>amount</th>\n",
       "      <th>direction</th>\n",
       "    </tr>\n",
       "  </thead>\n",
       "  <tbody>\n",
       "    <tr>\n",
       "      <th>0</th>\n",
       "      <td>101089750351</td>\n",
       "      <td>bchusdt</td>\n",
       "      <td>1598889601108</td>\n",
       "      <td>277.50</td>\n",
       "      <td>0.9941</td>\n",
       "      <td>sell</td>\n",
       "    </tr>\n",
       "    <tr>\n",
       "      <th>1</th>\n",
       "      <td>101089750352</td>\n",
       "      <td>bchusdt</td>\n",
       "      <td>1598889601260</td>\n",
       "      <td>277.44</td>\n",
       "      <td>0.2000</td>\n",
       "      <td>buy</td>\n",
       "    </tr>\n",
       "    <tr>\n",
       "      <th>2</th>\n",
       "      <td>101089750353</td>\n",
       "      <td>bchusdt</td>\n",
       "      <td>1598889601260</td>\n",
       "      <td>277.44</td>\n",
       "      <td>1.0000</td>\n",
       "      <td>buy</td>\n",
       "    </tr>\n",
       "    <tr>\n",
       "      <th>3</th>\n",
       "      <td>101089750354</td>\n",
       "      <td>bchusdt</td>\n",
       "      <td>1598889601260</td>\n",
       "      <td>277.44</td>\n",
       "      <td>1.0000</td>\n",
       "      <td>buy</td>\n",
       "    </tr>\n",
       "    <tr>\n",
       "      <th>4</th>\n",
       "      <td>101089750355</td>\n",
       "      <td>bchusdt</td>\n",
       "      <td>1598889601579</td>\n",
       "      <td>277.45</td>\n",
       "      <td>0.6770</td>\n",
       "      <td>sell</td>\n",
       "    </tr>\n",
       "  </tbody>\n",
       "</table>\n",
       "</div>"
      ],
      "text/plain": [
       "        tradeid   symbol             ts   price  amount direction\n",
       "0  101089750351  bchusdt  1598889601108  277.50  0.9941      sell\n",
       "1  101089750352  bchusdt  1598889601260  277.44  0.2000       buy\n",
       "2  101089750353  bchusdt  1598889601260  277.44  1.0000       buy\n",
       "3  101089750354  bchusdt  1598889601260  277.44  1.0000       buy\n",
       "4  101089750355  bchusdt  1598889601579  277.45  0.6770      sell"
      ]
     },
     "execution_count": 4,
     "metadata": {},
     "output_type": "execute_result"
    }
   ],
   "source": [
    "#tradeData = pd.read_csv('/home/jovyan/work/input_dataset/HB-Spot-Tick-BCHUSDT-20200901',sep='\\t')\n",
    "tradeData.head()"
   ]
  },
  {
   "cell_type": "code",
   "execution_count": 5,
   "id": "3975d339",
   "metadata": {},
   "outputs": [
    {
     "name": "stderr",
     "output_type": "stream",
     "text": [
      "<ipython-input-5-3bcfa6a90b93>:1: FutureWarning: The pandas.datetime class is deprecated and will be removed from pandas in a future version. Import from datetime module instead.\n",
      "  tradeData['ts'] = tradeData['ts'].apply(lambda x: pd.datetime.fromtimestamp(x / 1000))\n"
     ]
    },
    {
     "data": {
      "text/plain": [
       "0         2020-08-31 16:00:01.108\n",
       "1         2020-08-31 16:00:01.260\n",
       "2         2020-08-31 16:00:01.260\n",
       "3         2020-08-31 16:00:01.260\n",
       "4         2020-08-31 16:00:01.579\n",
       "                    ...          \n",
       "6135465   2020-09-30 15:59:07.755\n",
       "6135466   2020-09-30 15:59:10.664\n",
       "6135467   2020-09-30 15:59:13.146\n",
       "6135468   2020-09-30 15:59:43.181\n",
       "6135469   2020-09-30 15:59:43.181\n",
       "Name: ts, Length: 6135470, dtype: datetime64[ns]"
      ]
     },
     "execution_count": 5,
     "metadata": {},
     "output_type": "execute_result"
    }
   ],
   "source": [
    "tradeData['ts'] = tradeData['ts'].apply(lambda x: pd.datetime.fromtimestamp(x / 1000))\n",
    "tradeData['ts']"
   ]
  },
  {
   "cell_type": "code",
   "execution_count": 6,
   "id": "8a1fc1f6",
   "metadata": {},
   "outputs": [
    {
     "name": "stdout",
     "output_type": "stream",
     "text": [
      "<class 'pandas.core.frame.DataFrame'>\n",
      "RangeIndex: 6135470 entries, 0 to 6135469\n",
      "Data columns (total 6 columns):\n",
      " #   Column     Dtype         \n",
      "---  ------     -----         \n",
      " 0   tradeid    int64         \n",
      " 1   symbol     object        \n",
      " 2   ts         datetime64[ns]\n",
      " 3   price      float64       \n",
      " 4   amount     float64       \n",
      " 5   direction  object        \n",
      "dtypes: datetime64[ns](1), float64(2), int64(1), object(2)\n",
      "memory usage: 280.9+ MB\n"
     ]
    }
   ],
   "source": [
    "tradeData.info()"
   ]
  },
  {
   "cell_type": "code",
   "execution_count": 7,
   "id": "49158143",
   "metadata": {},
   "outputs": [],
   "source": [
    "# Note: please change your database, username & password as per your own values\n",
    "conn_params_dic = {\n",
    "    \"host\"      : \"172.17.0.6\",\n",
    "    \"database\"  : \"db\",\n",
    "    \"user\"      : \"root\",\n",
    "    \"password\"  : \"toor\"\n",
    "}"
   ]
  },
  {
   "cell_type": "code",
   "execution_count": 8,
   "id": "7f70936f",
   "metadata": {},
   "outputs": [],
   "source": [
    "# Define a function that handles and parses psycopg2 exceptions\n",
    "def show_psycopg2_exception(err):\n",
    "    # get details about the exception\n",
    "    err_type, err_obj, traceback = sys.exc_info()    \n",
    "    # get the line number when exception occured\n",
    "    line_n = traceback.tb_lineno    \n",
    "    # print the connect() error\n",
    "    print (\"\\npsycopg2 ERROR:\", err, \"on line number:\", line_n)\n",
    "    print (\"psycopg2 traceback:\", traceback, \"-- type:\", err_type) \n",
    "    # psycopg2 extensions.Diagnostics object attribute\n",
    "    print (\"\\nextensions.Diagnostics:\", err.diag)    \n",
    "    # print the pgcode and pgerror exceptions\n",
    "    print (\"pgerror:\", err.pgerror)\n",
    "    print (\"pgcode:\", err.pgcode, \"\\n\")\n",
    "    \n",
    "    \n",
    "# Define a connect function for PostgreSQL database server\n",
    "def connect(conn_params_dic):\n",
    "    conn = None\n",
    "    try:\n",
    "        print('Connecting to the PostgreSQL...........')\n",
    "        conn = psycopg2.connect(**conn_params_dic)\n",
    "        print(\"Connection successfully..................\")\n",
    "        \n",
    "    except OperationalError as err:\n",
    "        # passing exception to function\n",
    "        show_psycopg2_exception(err)        \n",
    "        # set the connection to 'None' in case of error\n",
    "        conn = None\n",
    "    return conn\n",
    "\n",
    "def init_table(conn):\n",
    "    cursor = conn.cursor()\n",
    "    cursor.execute('''\n",
    "DROP TABLE IF EXISTS trade ;\n",
    "\n",
    "CREATE TABLE trade\n",
    "(\n",
    "    id bigint NOT NULL,\n",
    "    symbol text,\n",
    "    ts TIMESTAMP WITHOUT TIME ZONE ,\n",
    "    price double precision,\n",
    "    amount double precision,\n",
    "    direction text,\n",
    "    CONSTRAINT trade_pkey PRIMARY KEY (id)\n",
    ")''')\n",
    "\n",
    "\n",
    "# Define function using copy_from_dataFile to insert the dataframe.\n",
    "def copy_from_dataFile(conn, df, table):\n",
    "    \n",
    "#  Here we are going save the dataframe on disk as a csv file, load # the csv file and use copy_from() to copy it to the table\n",
    "    tmp_df = \"./df_temp.csv\"\n",
    "    df.to_csv(tmp_df, header=False,index = False)\n",
    "    f = open(tmp_df, 'r')\n",
    "    cursor = conn.cursor()\n",
    "    try:\n",
    "        cursor.copy_from(f, table, sep=\",\")\n",
    "        conn.commit()\n",
    "        print(\"Data inserted using copy_from_datafile() successfully....\")\n",
    "        cursor.close()\n",
    "    except (Exception, psycopg2.DatabaseError) as error:\n",
    "        os.remove(tmp_df)\n",
    "        # pass exception to function\n",
    "        show_psycopg2_exception(err)\n",
    "        cursor.close()\n",
    "    os.remove(tmp_df)    "
   ]
  },
  {
   "cell_type": "code",
   "execution_count": null,
   "id": "1ac997e0",
   "metadata": {},
   "outputs": [
    {
     "name": "stdout",
     "output_type": "stream",
     "text": [
      "Connecting to the PostgreSQL...........\n",
      "Connection successfully..................\n"
     ]
    }
   ],
   "source": [
    "# Connect to the database\n",
    "conn = connect(conn_params_dic)\n",
    "conn.autocommit = True\n",
    "#init table\n",
    "init_table(conn)\n",
    "# Run the copy_from_dataFile method, here saving data into \n",
    "copy_from_dataFile(conn, tradeData, 'trade')\n",
    "# Close the connection\n",
    "#conn.close()"
   ]
  },
  {
   "cell_type": "code",
   "execution_count": null,
   "id": "6fa0d07b",
   "metadata": {},
   "outputs": [],
   "source": [
    "# Prepare sql query\n",
    "sql = \"SELECT * FROM trade\" \n",
    "cursor = conn.cursor()\n",
    "# Execute cursor\n",
    "cursor.execute(sql)\n",
    "# Fetch all the records\n",
    "tuples = cursor.fetchall()\n",
    "# list of columns\n",
    "cols = list(tradeData.columns)\n",
    "tradedf = pd.DataFrame(tuples,columns=cols) \n",
    "# Print few records\n",
    "print(tradedf.head())\n",
    "\n",
    "# Close the cursor\n",
    "cursor.close()\n",
    "# Close the connection\n",
    "conn.close()"
   ]
  },
  {
   "cell_type": "code",
   "execution_count": null,
   "id": "d4ceb220",
   "metadata": {},
   "outputs": [],
   "source": [
    "tradedf.equals(tradeData)"
   ]
  },
  {
   "cell_type": "code",
   "execution_count": null,
   "id": "08361a3f",
   "metadata": {},
   "outputs": [],
   "source": [
    "tradedf"
   ]
  },
  {
   "cell_type": "code",
   "execution_count": null,
   "id": "ec09f10b",
   "metadata": {},
   "outputs": [],
   "source": [
    "tradedf['symbol'].unique()"
   ]
  },
  {
   "cell_type": "code",
   "execution_count": null,
   "id": "92965b32",
   "metadata": {},
   "outputs": [],
   "source": []
  },
  {
   "cell_type": "code",
   "execution_count": null,
   "id": "bc553aa1",
   "metadata": {},
   "outputs": [],
   "source": []
  }
 ],
 "metadata": {
  "kernelspec": {
   "display_name": "Python 3",
   "language": "python",
   "name": "python3"
  },
  "language_info": {
   "codemirror_mode": {
    "name": "ipython",
    "version": 3
   },
   "file_extension": ".py",
   "mimetype": "text/x-python",
   "name": "python",
   "nbconvert_exporter": "python",
   "pygments_lexer": "ipython3",
   "version": "3.9.5"
  }
 },
 "nbformat": 4,
 "nbformat_minor": 5
}
